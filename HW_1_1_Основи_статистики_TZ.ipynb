{
  "nbformat": 4,
  "nbformat_minor": 0,
  "metadata": {
    "colab": {
      "provenance": [],
      "include_colab_link": true
    },
    "kernelspec": {
      "name": "python3",
      "display_name": "Python 3"
    },
    "language_info": {
      "name": "python"
    }
  },
  "cells": [
    {
      "cell_type": "markdown",
      "metadata": {
        "id": "view-in-github",
        "colab_type": "text"
      },
      "source": [
        "<a href=\"https://colab.research.google.com/github/t-zakharenko/ML-course-May-2025/blob/main/HW_1_1_%D0%9E%D1%81%D0%BD%D0%BE%D0%B2%D0%B8_%D1%81%D1%82%D0%B0%D1%82%D0%B8%D1%81%D1%82%D0%B8%D0%BA%D0%B8_TZ.ipynb\" target=\"_parent\"><img src=\"https://colab.research.google.com/assets/colab-badge.svg\" alt=\"Open In Colab\"/></a>"
      ]
    },
    {
      "cell_type": "markdown",
      "source": [
        "В цьому домашньому завданні відпрацюємо з вами знання, отримані в модулі зі статистики.\n",
        "\n",
        "**Завдання 1.** Ми обговорили з Вами на лекції, що велика літера Сігма грецького алфавіту позначає в математиці суму. Знайдіть з використанням Python $\\Sigma x$, $\\Sigma x^2$, та $\\Sigma (x-1)^2$ для наступного набору даних:\n",
        "`1 3 4`\n",
        "Виведіть результат кожного обчислення на екран."
      ],
      "metadata": {
        "id": "SDhaTqxcWhnP"
      }
    },
    {
      "cell_type": "code",
      "source": [
        "test_data = [1, 3, 4]\n",
        "s1 = sum(test_data)\n",
        "print(\"Перша сума дорівнює \", s1)\n",
        "\n",
        "s2 = 0\n",
        "for i in test_data:\n",
        "  s2 = s2 + i**2\n",
        "print(\"Друга сума дорівнює \", s2)\n",
        "\n",
        "s3 = 0\n",
        "for i in test_data:\n",
        "  s3 = s3 + (i-1)**2\n",
        "print(\"Третя сума дорівнює \", s3)"
      ],
      "metadata": {
        "id": "B1mgx_IBT0e8",
        "colab": {
          "base_uri": "https://localhost:8080/"
        },
        "outputId": "b9dc13ac-2933-40f4-bb80-ba3ec1f193c5"
      },
      "execution_count": 1,
      "outputs": [
        {
          "output_type": "stream",
          "name": "stdout",
          "text": [
            "Перша сума дорівнює  8\n",
            "Друга сума дорівнює  26\n",
            "Третя сума дорівнює  13\n"
          ]
        }
      ]
    },
    {
      "cell_type": "markdown",
      "source": [
        "**Завдання 2.** Ми зібрали дані про суму покупок в гривнях 20ма випадково обраними клієнтами в нашому магазині (всього клієнтів у нас більше) за минулий місяць. Вони представлені в змінній `sum_purchases`. Знайдіть **вибіркове середнє** для цих даних кожним з зазначених методів:   \n",
        "\n",
        "  2.1. без використання жодних бібліотек, користуючись тільки Python.  \n",
        "  2.2. використовуючи відповідний метод бібліотеки `numpy`.\n",
        "\n",
        "  Виведіть результат обчислень в кожному з випадків на екран та порівняйте результати. Вони співпадають?"
      ],
      "metadata": {
        "id": "fa78aW5lhiia"
      }
    },
    {
      "cell_type": "code",
      "execution_count": 3,
      "metadata": {
        "id": "_9kMt3rq6V5m"
      },
      "outputs": [],
      "source": [
        "sum_purchases = [ 316,  493,  367,  153,  224,  121,  322,  450,  196,  397,  281,\n",
        "  239,  484,  124,  223,  448,  432,  255, 4310, 3524]"
      ]
    },
    {
      "cell_type": "code",
      "source": [
        "import numpy as np\n",
        "\n",
        "# Рішення 2.1\n",
        "mean_purchase_py = sum(sum_purchases) / len(sum_purchases)\n",
        "print(\"Вибіркове середнє 1: \", mean_purchase_py)\n",
        "\n",
        "# Рішення 2.2\n",
        "mean_purchase_np = np.mean(sum_purchases)\n",
        "print(\"Вибіркове середнє 2: \", mean_purchase_np)"
      ],
      "metadata": {
        "id": "wPmL919HT1c0",
        "colab": {
          "base_uri": "https://localhost:8080/"
        },
        "outputId": "c371057b-9e57-471d-f1f8-5725c758f7a1"
      },
      "execution_count": 9,
      "outputs": [
        {
          "output_type": "stream",
          "name": "stdout",
          "text": [
            "Вибіркове середнє 1:  667.95\n",
            "Вибіркове середнє 2:  667.95\n"
          ]
        }
      ]
    },
    {
      "cell_type": "markdown",
      "source": [
        "**Завдання 3.** Для того ж набору даних в змінній `sum_purchases` обчисліть **медіану** кожним з зазначених методів:  \n",
        "\n",
        "  3.1. без використання жодних бібліотек, користуючись тільки Python.  \n",
        "  3.2. використовуючи відповідний метод бібліотеки numpy.  \n",
        "\n",
        "Виведіть результат обчислень в кожному з випадків на екран. Порівняйте результати зі значенням вибіркового середнього. Напишіть коментар, для яких задач ви б використовували вибіркове середнє, а для яких - медіану?"
      ],
      "metadata": {
        "id": "FMdoxZd0kZdW"
      }
    },
    {
      "cell_type": "code",
      "source": [
        "# Рішення 3.1\n",
        "if len(sum_purchases) % 2 == 0:\n",
        "  median_purchase_py = (sorted(sum_purchases)[len(sum_purchases)//2-1] + sorted(sum_purchases)[len(sum_purchases)//2]) / 2\n",
        "else:\n",
        "  median_purchase_py = sorted(sum_purchases)[len(sum_purchases)//2]\n",
        "print(\"Медіана 1: \", median_purchase_py)\n",
        "\n",
        "# Рішення 3.2\n",
        "median_purchase_np = np.median(sum_purchases)\n",
        "print(\"Медіана 2: \", median_purchase_np)"
      ],
      "metadata": {
        "id": "x58BumvuT2nl",
        "colab": {
          "base_uri": "https://localhost:8080/"
        },
        "outputId": "a5f0e34c-9280-454d-ac12-3cdc462b964b"
      },
      "execution_count": 42,
      "outputs": [
        {
          "output_type": "stream",
          "name": "stdout",
          "text": [
            "Медіана 1:  319.0\n",
            "Медіана 2:  319.0\n"
          ]
        }
      ]
    },
    {
      "cell_type": "markdown",
      "source": [
        "**Завдання 4**. Обчислість стандартне відхилення наведеної вибірки в змінній `sum_purchases` кожним з зазначених методів:  \n",
        "\n",
        "  4.1. без використання жодних бібліотек, користуючись тільки Python.  \n",
        "  4.2. використовуючи відповідний метод бібліотеки numpy.  \n",
        "\n",
        "Виведіть результат обчислень в кожному з випадків на екран."
      ],
      "metadata": {
        "id": "o1Z7az2yNDQV"
      }
    },
    {
      "cell_type": "code",
      "source": [
        "# Рішення 4.1\n",
        "x_minus_mean = [(x - mean_purchase_py)**2 for x in sum_purchases]\n",
        "std_x_sample_py =np.sqrt(sum(x_minus_mean) /(len(sum_purchases)-1))\n",
        "print(\"Стандартне відхилення вибірки (варіант 1): \", std_x_sample_py)\n",
        "\n",
        "# Рішення 4.2\n",
        "std_x_sample_np = np.std(sum_purchases, ddof=1)\n",
        "print(\"Стандартне відхилення вибірки (варіант 2): \", std_x_sample_np)"
      ],
      "metadata": {
        "id": "X4ixtmL2T642",
        "colab": {
          "base_uri": "https://localhost:8080/"
        },
        "outputId": "5283d7d7-9d44-41db-b27f-43fd55081706"
      },
      "execution_count": 59,
      "outputs": [
        {
          "output_type": "stream",
          "name": "stdout",
          "text": [
            "Стандартне відхилення вибірки (варіант 1):  1124.5433447451132\n",
            "Стандартне відхилення вибірки (варіант 2):  1124.5433447451132\n"
          ]
        }
      ]
    },
    {
      "cell_type": "markdown",
      "source": [
        "**Завдання 5**. Ми провели дослідження віку студентів-першокурсників. Виявилось, що\n",
        "- 10 студентів мають вік 16 років\n",
        "- 25 студентів - 17 років\n",
        "- 20 студентів - 18 років\n",
        "- 2 студенти - 20 років\n",
        "\n",
        "Обчислість середнє значення для цієї вибірки будь-яким способом - на чистому Python або з numpy - та виведіть результат на екран."
      ],
      "metadata": {
        "id": "M1ntKTjXLVlH"
      }
    },
    {
      "cell_type": "code",
      "source": [
        "# Рішення 5\n",
        "x1 = [16] * 10\n",
        "x2 = [17] * 25\n",
        "x3 = [18] * 20\n",
        "x4 = [20] * 2\n",
        "freshers = x1 + x2 + x3 + x4\n",
        "freshers_mean =np.mean(freshers)\n",
        "print(\"Середній вік студентів-першокурсників: \", np.round(freshers_mean, 1))"
      ],
      "metadata": {
        "id": "RdIU4M-7T8R4",
        "colab": {
          "base_uri": "https://localhost:8080/"
        },
        "outputId": "eeba7c3c-939b-44af-c9ef-e169d36997ba"
      },
      "execution_count": 73,
      "outputs": [
        {
          "output_type": "stream",
          "name": "stdout",
          "text": [
            "Середній вік студентів-першокурсників:  17.3\n"
          ]
        }
      ]
    },
    {
      "cell_type": "markdown",
      "source": [
        "**Завдання 6**. Крім даних про суму покупок, ми зібрали ще дані про кількість відвідувань кожного з кожного покупця, які знаходяться в змінній `visits`. Обчисліть коефіцієнт кореляції Пірсона для суми покупок і кількості відвідувань кожним з зазначених методів:  \n",
        "\n",
        "  6.1. без використання жодних бібліотек, користуючись тільки Python.  \n",
        "  6.2. використовуючи відповідний метод бібліотеки numpy.  \n",
        "  \n",
        "Виведіть результат на екран. Проаналізуйте результат.\n",
        "\n",
        "Виведіть додатково графік розсіювання викликавши код нижче і зробіть заключення, чи варто щось змінити при підрахунку кореляції, аби коефіцієнт Пірсона показував коректну оцінку лінійної залежності?"
      ],
      "metadata": {
        "id": "Xx8MFkkVM53z"
      }
    },
    {
      "cell_type": "code",
      "source": [
        "visits = [ 6,  2, 10,  3,  9,  9,  2,  3,  6,  6, 10,  2,  5, 10,  3,  5,  4,\n",
        "        7,  4,  2]"
      ],
      "metadata": {
        "id": "4OIGBT7UOWhO"
      },
      "execution_count": 71,
      "outputs": []
    },
    {
      "cell_type": "code",
      "source": [
        "# Рішення 6.1\n",
        "mean_visits_py = sum(visits) / len(visits)\n",
        "print(mean_visits_py)\n",
        "y_minus_mean = [(y - mean_visits_py)**2 for y in visits]\n",
        "std_y_sample_py =np.sqrt(sum(y_minus_mean) /(len(visits)-1))\n",
        "cov_xy = sum([(sum_purchases[i] - mean_purchase_py) * (visits[i] - mean_visits_py) for i in range(len(visits))]) / (len(visits) - 1)\n",
        "pearson_cc_py = cov_xy / (std_x_sample_py * std_y_sample_py)\n",
        "\n",
        "print(\"Коефіцієнт кореляції Пірсона (варіант 1): \", pearson_cc_py)\n",
        "\n",
        "\n",
        "\n",
        "# Рішення 6.2\n",
        "pearson_cc_np = np.corrcoef(sum_purchases,visits)\n",
        "print(\"Коефіцієнт кореляції Пірсона (варіант 2): \", pearson_cc_np[0, 1])"
      ],
      "metadata": {
        "id": "YLNF7VbeT97Q",
        "colab": {
          "base_uri": "https://localhost:8080/"
        },
        "outputId": "15706d18-a542-4cf6-9d5d-4a97dd3aa2d1"
      },
      "execution_count": 81,
      "outputs": [
        {
          "output_type": "stream",
          "name": "stdout",
          "text": [
            "5.4\n",
            "Коефіцієнт кореляції Пірсона (варіант 1):  -0.3026584468766646\n",
            "Коефіцієнт кореляції Пірсона (варіант 2):  -0.3026584468766646\n"
          ]
        }
      ]
    },
    {
      "cell_type": "code",
      "source": [
        "import matplotlib.pyplot as plt\n",
        "\n",
        "plt.scatter(sum_purchases, visits)\n",
        "plt.title('Scatter Plot of Purchases vs. Visits')\n",
        "plt.xlabel('Sum of Purchases')\n",
        "plt.ylabel('Number of Visits');"
      ],
      "metadata": {
        "colab": {
          "base_uri": "https://localhost:8080/",
          "height": 472
        },
        "id": "gaeoGA-5Prr1",
        "outputId": "583fe9b2-ce0b-4603-d7b2-8798a7c31437"
      },
      "execution_count": 72,
      "outputs": [
        {
          "output_type": "display_data",
          "data": {
            "text/plain": [
              "<Figure size 640x480 with 1 Axes>"
            ],
            "image/png": "[encoded data removed]"
          },
          "metadata": {}
        }
      ]
    },
    {
      "cell_type": "markdown",
      "source": [
        "**Завдання 7**. В попередньому завданні ми помітили, що викиди нам заважають отримати \"правдиве\" значення кореляції. Давайте вилучимо записи, які відповідають значенням з викидами в сумі покупок і обчисліть коеф. кореляції. Для цього поставте `threshold`, який дорінює середньому значенню + 2 стандартних вдіхилля суми покупок і всі значення, які більше за нього, будемо вважати викидами (є і інші правила для визначення викидів - з ним и познайомимось пізніше).\n",
        "\n",
        "Вилучіть значення з обох масивів і обчисліть коеф. кореляції Пірсона з допомогою `numpy` для кількості візитів і суми покупок без записів-викидів. Виведіть результат на екран, побудуйте діаграму розсіювання і проаналізуйте результат: що можемо сказати про залежність в даних?"
      ],
      "metadata": {
        "id": "4pEg0KzSQ6KA"
      }
    },
    {
      "cell_type": "code",
      "source": [
        "threshold = mean_purchase_np + 2 * std_x_sample_np\n",
        "\n",
        "mask = sum_purchases < threshold\n",
        "sum_purchases_np = np.array(sum_purchases)\n",
        "visits_np = np.array(visits)\n",
        "\n",
        "filtered_sum_purchases = sum_purchases_np[mask]\n",
        "filtered_visits = visits_np[mask]\n",
        "\n",
        "pearson_cc_np_2 = np.corrcoef(filtered_sum_purchases, filtered_visits)\n",
        "print(\"Коефіцієнт кореляції Пірсона без викидів: \", pearson_cc_np_2[0, 1])"
      ],
      "metadata": {
        "id": "Yj3Yfaf7UBbc",
        "colab": {
          "base_uri": "https://localhost:8080/"
        },
        "outputId": "a43ef688-6dce-48fe-96ba-24ee8b940ea0"
      },
      "execution_count": 106,
      "outputs": [
        {
          "output_type": "stream",
          "name": "stdout",
          "text": [
            "Коефіцієнт кореляції Пірсона без викидів:  -0.3685212078127798\n"
          ]
        }
      ]
    },
    {
      "cell_type": "code",
      "source": [
        "plt.scatter(filtered_sum_purchases, filtered_visits)\n",
        "plt.title('Scatter Plot of Purchases vs. Visits without outliers')\n",
        "plt.xlabel('Sum of Purchases')\n",
        "plt.ylabel('Number of Visits');"
      ],
      "metadata": {
        "colab": {
          "base_uri": "https://localhost:8080/",
          "height": 472
        },
        "id": "LygYAUoMWtW7",
        "outputId": "1fa6e23d-aa7f-4cfd-8f2e-d1ece8ff5c3f"
      },
      "execution_count": 107,
      "outputs": [
        {
          "output_type": "display_data",
          "data": {
            "text/plain": [
              "<Figure size 640x480 with 1 Axes>"
            ],
            "image/png": "[encoded data removed]"
          },
          "metadata": {}
        }
      ]
    }
  ]
}