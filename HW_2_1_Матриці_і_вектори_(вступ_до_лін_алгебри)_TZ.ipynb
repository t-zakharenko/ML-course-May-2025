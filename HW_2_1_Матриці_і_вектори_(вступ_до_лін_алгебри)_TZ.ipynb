{
  "nbformat": 4,
  "nbformat_minor": 0,
  "metadata": {
    "colab": {
      "provenance": [],
      "include_colab_link": true
    },
    "kernelspec": {
      "name": "python3",
      "display_name": "Python 3"
    },
    "language_info": {
      "name": "python"
    }
  },
  "cells": [
    {
      "cell_type": "markdown",
      "metadata": {
        "id": "view-in-github",
        "colab_type": "text"
      },
      "source": [
        "<a href=\"https://colab.research.google.com/github/t-zakharenko/ML-course-May-2025/blob/main/HW_2_1_%D0%9C%D0%B0%D1%82%D1%80%D0%B8%D1%86%D1%96_%D1%96_%D0%B2%D0%B5%D0%BA%D1%82%D0%BE%D1%80%D0%B8_(%D0%B2%D1%81%D1%82%D1%83%D0%BF_%D0%B4%D0%BE_%D0%BB%D1%96%D0%BD_%D0%B0%D0%BB%D0%B3%D0%B5%D0%B1%D1%80%D0%B8)_TZ.ipynb\" target=\"_parent\"><img src=\"https://colab.research.google.com/assets/colab-badge.svg\" alt=\"Open In Colab\"/></a>"
      ]
    },
    {
      "cell_type": "markdown",
      "source": [
        "### Завдання 1: Створення матриць та векторів\n",
        "1. Створіть `numpy` вектор `vector` розмірністю 10 з випадковими дійсними значеннями в діапазоні від 0 до 1. Можна скористатись двома альтернативними варіантами:\n",
        "  1. Генерація випадкових чисел з модулем [`random.uniform`](https://docs.python.org/3/library/random.html).\n",
        "  2. Створення вектора з допомогою метода `numpy` [np.random.rand](https://numpy.org/doc/stable/reference/random/generated/numpy.random.rand.html)\n",
        "\n",
        "2. Створіть матрицю `matrix` типу `numpy.array` розмірності 3x3 з наступними значеннями\n",
        "\n",
        "  $$\n",
        "  matrix = \\begin{bmatrix}\n",
        "  11 & 14 & 17 \\\\\n",
        "  20 & 23 & 26 \\\\\n",
        "  29 & 32 & 35\n",
        "  \\end{bmatrix}\n",
        "  $$\n",
        "\n",
        "  будь-яким відомими Вам способом.\n",
        "\n",
        "Виведіть на екран вектор і матрицю, а також їх розміри.\n"
      ],
      "metadata": {
        "id": "efug1V4CM0lT"
      }
    },
    {
      "cell_type": "code",
      "source": [
        "import numpy as np\n",
        "import random"
      ],
      "metadata": {
        "id": "HMt6oVFDdXP3"
      },
      "execution_count": 4,
      "outputs": []
    },
    {
      "cell_type": "code",
      "source": [
        "'''\n",
        "Завдання 1_1: Створення матриць та векторів\n",
        "\n",
        "Створіть numpy вектор vector розмірністю 10 з випадковими дійсними значеннями в діапазоні від 0 до 1.\n",
        "Можна скористатись двома альтернативними варіантами:\n",
        "\n",
        "Генерація випадкових чисел з модулем random.uniform.\n",
        "Створення вектора з допомогою метода numpy np.random.rand\n",
        "'''\n",
        "\n",
        "# Варіант 1. Генерація випадкових чисел з модулем random.uniform.\n",
        "vector = np.array([random.uniform(0, 1) for _ in range(10)])\n",
        "print(\"\\n\\nВектор, створений з допомогою метода random.uniform:\")\n",
        "print(vector)\n",
        "\n",
        "# Варіант 2. Створення вектора з допомогою метода numpy np.random.rand\n",
        "vector = np.random.rand(10)\n",
        "print(\"\\n\\nВектор, створений за допомогою генераціх випадкових чисел з np.random.rand:\")\n",
        "print(vector)"
      ],
      "metadata": {
        "id": "jxA_lG2_VIMe",
        "colab": {
          "base_uri": "https://localhost:8080/"
        },
        "outputId": "973b4d5b-cf5f-41ce-fc90-04eb79754a03"
      },
      "execution_count": 9,
      "outputs": [
        {
          "output_type": "stream",
          "name": "stdout",
          "text": [
            "\n",
            "\n",
            "Вектор, створений з допомогою метода random.uniform:\n",
            "[0.24566801 0.27537694 0.21978705 0.99292166 0.27631176 0.33168398\n",
            " 0.93284093 0.22465706 0.42052281 0.94270101]\n",
            "\n",
            "\n",
            "Вектор, створений за допомогою генераціх випадкових чисел з np.random.rand:\n",
            "[0.92260904 0.4653188  0.51631752 0.14992371 0.13323794 0.44637196\n",
            " 0.64058114 0.32686863 0.05844541 0.54700657]\n"
          ]
        }
      ]
    },
    {
      "cell_type": "code",
      "source": [
        "'''\n",
        "Завдання 1_2: Створення матриці matrix типу numpy.array розмірності 3х3 зі значеннями:\n",
        "[[11 14 17]\n",
        " [20 23 26]\n",
        " [29 32 35]]\n",
        "\n",
        "'''\n",
        "\n",
        "matrix = np.array([\n",
        "    [11, 14, 17],\n",
        "    [20, 23, 26],\n",
        "    [29, 32, 35]\n",
        "])\n",
        "\n",
        "print(\"\\nЗавдання 1_2: Матриця 3x3:\\n\")\n",
        "print(matrix)\n"
      ],
      "metadata": {
        "colab": {
          "base_uri": "https://localhost:8080/"
        },
        "id": "o0CBSr7deTMQ",
        "outputId": "59388bf2-4d93-4960-9b5a-8e04c2a416c7"
      },
      "execution_count": 23,
      "outputs": [
        {
          "output_type": "stream",
          "name": "stdout",
          "text": [
            "\n",
            "Завдання 1_2: Матриця 3x3:\n",
            "\n",
            "[[11 14 17]\n",
            " [20 23 26]\n",
            " [29 32 35]]\n"
          ]
        }
      ]
    },
    {
      "cell_type": "markdown",
      "source": [
        "\n",
        "### Завдання 2: Операції над векторами та матрицями\n",
        "Виконайте кожну з зазначених операцій над зазначеними оʼєктами і виведіть результат на екран:\n",
        "1. Додайте до кожного значення вектора `vector` число 10 і округліть кожне значення до 2 знаків після коми без використання циклів.\n",
        "2. Помножте кожен елемент матриці з першого завдання на 2 без використання циклів.\n",
        "3. Створіть новий вектор, який містить квадрат кожного `vector` без циклів.\n"
      ],
      "metadata": {
        "id": "TSJ1P4OuOVe2"
      }
    },
    {
      "cell_type": "code",
      "source": [
        "'''\n",
        "Завдання 2: Операції над векторами та матрицями\n",
        "Виконайте кожну з зазначених операцій над зазначеними оʼєктами і виведіть результат на екран:\n",
        "'''\n",
        "\n",
        "# 1. Додайте до кожного значення вектора vector число 10 і округліть кожне значення до 2 знаків після коми без використання циклів.\n",
        "vector_add_10 = np.round(vector + 10, 2)\n",
        "print(\"Початковий вектор: \\n\", vector)\n",
        "print(\"Новий вектор: \\n\", vector_add_10, \"\\n\\n\")\n",
        "\n",
        "# 2. Помножте кожен елемент матриці з першого завдання на 2 без використання циклів.\n",
        "matrix_x_2 = matrix * 2\n",
        "print(\"Матриця, помножена на 2:\")\n",
        "print(matrix_x_2)\n",
        "\n",
        "# 3. Створіть новий вектор, який містить квадрат кожного vector без циклів."
      ],
      "metadata": {
        "id": "nAAojtyUVJXN",
        "colab": {
          "base_uri": "https://localhost:8080/"
        },
        "outputId": "0c3933ac-236e-4203-9383-b3a49be2785d"
      },
      "execution_count": 33,
      "outputs": [
        {
          "output_type": "stream",
          "name": "stdout",
          "text": [
            "Початковий вектор: \n",
            " [0.92260904 0.4653188  0.51631752 0.14992371 0.13323794 0.44637196\n",
            " 0.64058114 0.32686863 0.05844541 0.54700657]\n",
            "Новий вектор: \n",
            " [10.92 10.47 10.52 10.15 10.13 10.45 10.64 10.33 10.06 10.55] \n",
            "\n",
            "\n",
            "Матриця, помножена на 2:\n",
            "[[22 28 34]\n",
            " [40 46 52]\n",
            " [58 64 70]]\n"
          ]
        }
      ]
    },
    {
      "cell_type": "markdown",
      "source": [
        "\n",
        "### Завдання 3: Множення матриць\n",
        "1. Задані дві матриці `A` і `B`розмірностями 3x2 та 2х3. Виконайте їхнє множення, щоб отримати матрицю 2x2. Виведіть результуючу матрицю `result_matrix` на екран.\n",
        "\n",
        "2. Заданий вектор `C` розмірністю 2х1. Подумайте спочатку, яку розмірність Ви отрмаєте, коли домножите `result_matrix` на вектор `C` і який результат буде. А потім виконайте множення і виведіть результат на екран.\n",
        "\n",
        "3. Задана матриця `D` розмірністю 2х2. Подумайте спочатку, яку розмірність Ви отрмаєте, коли домножите `result_matrix` на матрицю `D` і який результат буде. А потім виконайте множення і виведіть результат на екран."
      ],
      "metadata": {
        "id": "u6RvWVfhPy-k"
      }
    },
    {
      "cell_type": "code",
      "source": [
        "A = np.array(\n",
        "    [[0.18, 0.53],\n",
        "     [0.75, 0.47],\n",
        "     [0.35, 0.21]])\n",
        "\n",
        "B = np.array(\n",
        "    [[0.17, 0.58, 0.75],\n",
        "     [0.38, 0.11, 0.15]])\n",
        "\n",
        "C = np.array([[0], [1]])\n",
        "\n",
        "D = np.array([[0,1], [1,0]])\n",
        "\n",
        "display(A, B, C, D)"
      ],
      "metadata": {
        "id": "RwXfPzlbSJ44",
        "colab": {
          "base_uri": "https://localhost:8080/",
          "height": 183
        },
        "outputId": "cc3b694a-4684-485f-8d5f-90bc2da44d9e"
      },
      "execution_count": 34,
      "outputs": [
        {
          "output_type": "display_data",
          "data": {
            "text/plain": [
              "array([[0.18, 0.53],\n",
              "       [0.75, 0.47],\n",
              "       [0.35, 0.21]])"
            ]
          },
          "metadata": {}
        },
        {
          "output_type": "display_data",
          "data": {
            "text/plain": [
              "array([[0.17, 0.58, 0.75],\n",
              "       [0.38, 0.11, 0.15]])"
            ]
          },
          "metadata": {}
        },
        {
          "output_type": "display_data",
          "data": {
            "text/plain": [
              "array([[0],\n",
              "       [1]])"
            ]
          },
          "metadata": {}
        },
        {
          "output_type": "display_data",
          "data": {
            "text/plain": [
              "array([[0, 1],\n",
              "       [1, 0]])"
            ]
          },
          "metadata": {}
        }
      ]
    },
    {
      "cell_type": "code",
      "source": [
        "# Множення матриць\n",
        "result_matrix = np.dot(B, A)\n",
        "print(\"result_matrix (A * B):\")\n",
        "print(result_matrix)"
      ],
      "metadata": {
        "id": "z7-boTbhVKkj",
        "colab": {
          "base_uri": "https://localhost:8080/"
        },
        "outputId": "6c39dfd5-5a1c-46b0-87d7-a82d9c02a222"
      },
      "execution_count": 43,
      "outputs": [
        {
          "output_type": "stream",
          "name": "stdout",
          "text": [
            "result_matrix (A * B):\n",
            "[[0.7281 0.5202]\n",
            " [0.2034 0.2846]]\n"
          ]
        }
      ]
    },
    {
      "cell_type": "code",
      "source": [
        "# Множення матриці на вектор\n",
        "print(\"Множення result_matrix на вектор C:\")\n",
        "print(np.dot(result_matrix, C))"
      ],
      "metadata": {
        "colab": {
          "base_uri": "https://localhost:8080/"
        },
        "id": "jdB29ITDtEKZ",
        "outputId": "ac3b7b75-e807-4881-e5e4-b03ff9feeac9"
      },
      "execution_count": 47,
      "outputs": [
        {
          "output_type": "stream",
          "name": "stdout",
          "text": [
            "Множення result_matrix на вектор C:\n",
            "[[0.5202]\n",
            " [0.2846]]\n"
          ]
        }
      ]
    },
    {
      "cell_type": "code",
      "source": [
        "# Множення матриць\n",
        "print(\"Множення result_matrix на матрицю D:\")\n",
        "print(np.dot(result_matrix, D))"
      ],
      "metadata": {
        "colab": {
          "base_uri": "https://localhost:8080/"
        },
        "id": "nMV3W_fZtD4u",
        "outputId": "4876070d-dc20-4ee1-b9f8-a584b93a12f1"
      },
      "execution_count": 49,
      "outputs": [
        {
          "output_type": "stream",
          "name": "stdout",
          "text": [
            "Множення result_matrix на матрицю D:\n",
            "[[0.5202 0.7281]\n",
            " [0.2846 0.2034]]\n"
          ]
        }
      ]
    },
    {
      "cell_type": "markdown",
      "source": [
        "\n",
        "### Завдання 4: Транспонування матриць\n",
        "1. Транспонуйте `result_matrix`.\n",
        "2. Зробіть транспонування вектора `vector` і виведіть форму нової структури. Чи бачите ви зміну?\n",
        "3. Використайте операцію `numpy.expand_dims` над вектором `vector` з аргументом axis=1. Запишіть отриманий результат в змінну `column_vector` і виведіть на екран. Порівняйте з `vector`.\n",
        "4. Зробіть транспонування `column_vector`, виведіть результат на екран разом з розмірностями отриманої структури.\n",
        "\n",
        "\n"
      ],
      "metadata": {
        "id": "wohp0_cxSGpl"
      }
    },
    {
      "cell_type": "code",
      "source": [
        "'''\n",
        "Завдання 4: Транспонування матриць\n",
        "\n",
        "'''\n",
        "# Транспонуйте result_matrix.\n",
        "transposed_matrix = result_matrix.T\n",
        "print(\"Оригінальна матриця result_matrix:\")\n",
        "print(result_matrix)\n",
        "print(\"\\nТранспонована матриця:\")\n",
        "print(transposed_matrix)"
      ],
      "metadata": {
        "id": "4hFcq1baVLii",
        "colab": {
          "base_uri": "https://localhost:8080/"
        },
        "outputId": "99997287-68b0-4b32-ded4-5ffdf5f4fa03"
      },
      "execution_count": 56,
      "outputs": [
        {
          "output_type": "stream",
          "name": "stdout",
          "text": [
            "Оригінальна матриця result_matrix:\n",
            "[[0.7281 0.5202]\n",
            " [0.2034 0.2846]]\n",
            "\n",
            "Транспонована матриця:\n",
            "[[0.7281 0.2034]\n",
            " [0.5202 0.2846]]\n"
          ]
        }
      ]
    },
    {
      "cell_type": "markdown",
      "source": [
        "Форма матриці залишилася, але значення помінялися місцями."
      ],
      "metadata": {
        "id": "VEu2lKghxl_8"
      }
    },
    {
      "cell_type": "code",
      "source": [
        "# Зробіть транспонування вектора vector і виведіть форму нової структури.\n",
        "transposed_vector = vector.T\n",
        "print(\"Оригінальний вектор:\")\n",
        "print(vector)\n",
        "print(\"\\nТранспонований вектор:\")\n",
        "print(transposed_vector)"
      ],
      "metadata": {
        "colab": {
          "base_uri": "https://localhost:8080/"
        },
        "id": "FjcWwXN5xNPG",
        "outputId": "805740c7-7a55-43c3-bc33-86bfb748223b"
      },
      "execution_count": 58,
      "outputs": [
        {
          "output_type": "stream",
          "name": "stdout",
          "text": [
            "Оригінальний вектор:\n",
            "[0.92260904 0.4653188  0.51631752 0.14992371 0.13323794 0.44637196\n",
            " 0.64058114 0.32686863 0.05844541 0.54700657]\n",
            "\n",
            "Транспонований вектор:\n",
            "[0.92260904 0.4653188  0.51631752 0.14992371 0.13323794 0.44637196\n",
            " 0.64058114 0.32686863 0.05844541 0.54700657]\n"
          ]
        }
      ]
    },
    {
      "cell_type": "markdown",
      "source": [
        "Змін не відбулося"
      ],
      "metadata": {
        "id": "8y46Yc-gx89B"
      }
    },
    {
      "cell_type": "code",
      "source": [
        "# Використайте операцію numpy.expand_dims над вектором vector з аргументом axis=1. Запишіть отриманий результат в змінну column_vector і виведіть на екран. Порівняйте з vector.\n",
        "column_vector = np.expand_dims(vector, axis=1)\n",
        "print(\"Оригінальний вектор:\")\n",
        "print(vector)\n",
        "print(\"\\nОновлений вектор:\")\n",
        "print(column_vector)\n",
        "print(\"column_vector (розмірність):\", column_vector.shape)"
      ],
      "metadata": {
        "colab": {
          "base_uri": "https://localhost:8080/"
        },
        "id": "qhNCk_UuxNsX",
        "outputId": "c8e7655f-0967-406e-e3e1-1e2b149c1ec5"
      },
      "execution_count": 59,
      "outputs": [
        {
          "output_type": "stream",
          "name": "stdout",
          "text": [
            "Оригінальний вектор:\n",
            "[0.92260904 0.4653188  0.51631752 0.14992371 0.13323794 0.44637196\n",
            " 0.64058114 0.32686863 0.05844541 0.54700657]\n",
            "\n",
            "Оновлений вектор:\n",
            "[[0.92260904]\n",
            " [0.4653188 ]\n",
            " [0.51631752]\n",
            " [0.14992371]\n",
            " [0.13323794]\n",
            " [0.44637196]\n",
            " [0.64058114]\n",
            " [0.32686863]\n",
            " [0.05844541]\n",
            " [0.54700657]]\n",
            "column_vector (розмірність): (10, 1)\n"
          ]
        }
      ]
    },
    {
      "cell_type": "markdown",
      "source": [
        "Отримали вектор-колонку."
      ],
      "metadata": {
        "id": "J4_74StyyELq"
      }
    },
    {
      "cell_type": "code",
      "source": [
        "# Зробіть транспонування column_vector, виведіть результат на екран разом з розмірностями отриманої структури.\n",
        "transposed_column_vector = column_vector.T\n",
        "print(\"Вектор column_vector:\")\n",
        "print(column_vector)\n",
        "print(\"Розмірність column_vector:\", column_vector.shape)\n",
        "print(\"\\nТранспонований column_vector:\")\n",
        "print(transposed_column_vector)\n",
        "print(\"Розмірність transposed_column_vector:\", transposed_column_vector.shape)"
      ],
      "metadata": {
        "colab": {
          "base_uri": "https://localhost:8080/"
        },
        "id": "uUfya8kuxN-6",
        "outputId": "ba0bf4f3-7d05-48e5-e2a9-d48747bc4818"
      },
      "execution_count": 62,
      "outputs": [
        {
          "output_type": "stream",
          "name": "stdout",
          "text": [
            "Вектор column_vector:\n",
            "[[0.92260904]\n",
            " [0.4653188 ]\n",
            " [0.51631752]\n",
            " [0.14992371]\n",
            " [0.13323794]\n",
            " [0.44637196]\n",
            " [0.64058114]\n",
            " [0.32686863]\n",
            " [0.05844541]\n",
            " [0.54700657]]\n",
            "Розмірність column_vector: (10, 1)\n",
            "\n",
            "Транспонований column_vector:\n",
            "[[0.92260904 0.4653188  0.51631752 0.14992371 0.13323794 0.44637196\n",
            "  0.64058114 0.32686863 0.05844541 0.54700657]]\n",
            "Розмірність transposed_column_vector: (1, 10)\n"
          ]
        }
      ]
    },
    {
      "cell_type": "markdown",
      "source": [
        "Знову повернули горизонтальний вектор. Змінилась форма."
      ],
      "metadata": {
        "id": "Hc6Nm1w1yKuJ"
      }
    }
  ]
}